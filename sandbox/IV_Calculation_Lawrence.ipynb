{
 "cells": [
  {
   "cell_type": "code",
   "execution_count": 1,
   "metadata": {},
   "outputs": [],
   "source": [
    "import numpy as np\n",
    "import pandas as pd\n",
    "import math\n",
    "from scipy.stats import norm\n",
    "import matplotlib.pyplot as plt\n",
    "from numpy.random import default_rng"
   ]
  },
  {
   "cell_type": "code",
   "execution_count": 2,
   "metadata": {},
   "outputs": [],
   "source": [
    "class ivModel:\n",
    "    def __init__(self, r, repo, ttm, S, K, option, option_price):\n",
    "        self.repo = repo\n",
    "        self.ttm = ttm  \n",
    "        self.r = r\n",
    "        self.S = S\n",
    "        self.K = K\n",
    "        self.option = option\n",
    "        self.sigmahat = np.sqrt(2*abs(((np.log(self.S/self.K))+ (self.r - self.repo) * self.ttm) / self.ttm))\n",
    "        self.option_price = option_price\n",
    "        \n",
    "    def fCalculation(self,sigma):\n",
    "        \n",
    "        d1 = (np.log(self.S/self.K) + (self.r - self.repo) * self.ttm) / (sigma*np.sqrt(self.ttm)) + 0.5 * sigma * np.sqrt(self.ttm)\n",
    "        d2 = (np.log(self.S/self.K) + (self.r - self.repo) * self.ttm) / (sigma*np.sqrt(self.ttm)) - 0.5 * sigma * np.sqrt(self.ttm)\n",
    "        Csigma = self.S * np.exp(-self.repo * self.ttm) * norm.cdf(d1) - self.K * np.exp(-self.r * self.ttm) * norm.cdf(d2)\n",
    "        Psigma = self.K * np.exp(-self.r * self.ttm) * norm.cdf(-d2) - self.S * np.exp(-self.repo * self.ttm) * norm.cdf(-d1)\n",
    "        if self.option == \"Call\":\n",
    "            return Csigma - self.option_price\n",
    "        if self.option == \"Put\":\n",
    "            return Psigma - self.option_price\n",
    "        \n",
    "    def fdevCalculation(self,sigma):\n",
    "        \n",
    "        d1 = (np.log(self.S/self.K) + (self.r - self.repo) * self.ttm) / (sigma*np.sqrt(self.ttm)) + 0.5 * sigma * np.sqrt(self.ttm)\n",
    "        dN = np.exp(-0.5* d1 * d1) /(np.sqrt(2*np.pi)) \n",
    "        \n",
    "        return self.S * np.exp(-self.repo*self.ttm) * np.sqrt(self.ttm) * dN\n",
    "    \n",
    "        \n",
    "    def ivCalculation(self,n):\n",
    "        \n",
    "        tol = 1e-10\n",
    "        nmax = n\n",
    "        nCurrent = 0\n",
    "        fdivfdev = 1\n",
    "        sigma = self.sigmahat\n",
    "        try:\n",
    "            for nCurrent in range(nmax):\n",
    "                fdivfdev = self.fCalculation(sigma) / self.fdevCalculation(sigma)\n",
    "                sigma = sigma - fdivfdev\n",
    "                if sigma <0:\n",
    "                    sigma = \"NaN\"\n",
    "                    break\n",
    "                if abs(fdivfdev) < tol:\n",
    "                    break  \n",
    "                nCurrent = nCurrent+1        \n",
    "            return sigma\n",
    "        except:\n",
    "            print(\"Error\")\n",
    "            return \"NaN\"\n",
    "    "
   ]
  },
  {
   "cell_type": "code",
   "execution_count": null,
   "metadata": {},
   "outputs": [],
   "source": []
  }
 ],
 "metadata": {
  "kernelspec": {
   "display_name": "Python 3",
   "language": "python",
   "name": "python3"
  },
  "language_info": {
   "codemirror_mode": {
    "name": "ipython",
    "version": 3
   },
   "file_extension": ".py",
   "mimetype": "text/x-python",
   "name": "python",
   "nbconvert_exporter": "python",
   "pygments_lexer": "ipython3",
   "version": "3.8.3"
  }
 },
 "nbformat": 4,
 "nbformat_minor": 4
}
