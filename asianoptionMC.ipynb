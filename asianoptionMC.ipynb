{
 "cells": [
  {
   "cell_type": "markdown",
   "metadata": {},
   "source": [
    "<h2>Monte Carlo method with control variate technique for arithmetic Asian\n",
    "call/put options</h2>"
   ]
  },
  {
   "cell_type": "code",
   "execution_count": 1,
   "metadata": {},
   "outputs": [],
   "source": [
    "import numpy as np\n",
    "import math\n",
    "from scipy.stats import norm\n",
    "from numpy.random import default_rng"
   ]
  },
  {
   "attachments": {
    "image.png": {
     "image/png": "[encoded data removed]"
    }
   },
   "cell_type": "markdown",
   "metadata": {},
   "source": [
    "![image.png](attachment:image.png)"
   ]
  },
  {
   "cell_type": "code",
   "execution_count": 136,
   "metadata": {},
   "outputs": [],
   "source": [
    "class AsianOptionCal:\n",
    "    def __init__(self,sigma,N,S,K,T,r,M,option):\n",
    "        self.sigma = sigma\n",
    "        self.N = N\n",
    "        self.S = S\n",
    "        self.K = K\n",
    "        self.T = T\n",
    "        self.r = r\n",
    "        self.M = M\n",
    "        self.option = option\n",
    "        self.sigmahat = sigma * math.sqrt((N+1)*(2*N+1)/(6*N*N))\n",
    "        self.muhat = (r-0.5*sigma*sigma) * (N+1)/(2*N) + 0.5 * self.sigmahat * self.sigmahat\n",
    "        self.d1hat = (math.log(S/K) + (self.muhat + 0.5*self.sigmahat*self.sigmahat)*T ) / (self.sigmahat *math.sqrt(T))\n",
    "        self.d2hat = self.d1hat - self.sigmahat * math.sqrt(T)\n",
    "        self.discount = np.exp(-r*T)\n",
    "    def arithmeticMath(self,s):\n",
    "        return np.mean(s)\n",
    "\n",
    "    def geometricMath(self,s):\n",
    "        return np.exp(np.mean(np.log(s)))\n",
    "    \n",
    "    def geometricClosedForm(self):\n",
    "        if self.option == \"Call\":\n",
    "            callV = np.exp(-self.r*self.T) * (self.S*np.exp(self.muhat*self.T)*norm.cdf(self.d1hat) - self.K*norm.cdf(self.d2hat))\n",
    "            return callV\n",
    "        if self.option == \"Put\":\n",
    "            putV = np.exp(-self.r*self.T) * (self.K*norm.cdf(-self.d2hat) - self.S*np.exp(self.muhat*self.T)*norm.cdf(-self.d1hat))\n",
    "            return putV\n",
    "    \n",
    "    def randomPriceSample(self):\n",
    "        Z = np.random.standard_normal(1)\n",
    "        growFactor = np.exp((self.r-0.5*self.sigma*self.sigma)*self.T/self.N) * np.exp(self.sigma * math.sqrt(self.T/self.N) * Z)\n",
    "        spathArray=[self.S*growFactor]\n",
    "        for i in range(1,self.N): # checkbug\n",
    "            Z = np.random.standard_normal(1)\n",
    "            growFactor = np.exp((self.r-0.5*self.sigma*self.sigma)*self.T/self.N) * np.exp(self.sigma * math.sqrt(self.T/self.N) * Z)\n",
    "            newPrice = spathArray[i-1] * growFactor\n",
    "            spathArray.append(newPrice)     \n",
    "        return spathArray\n",
    "    \n",
    "    def arithmetricPayoff(self):\n",
    "        np.random.seed(3)\n",
    "        arithPayoffArray = []\n",
    "        for i in range(self.M):\n",
    "            spathArray = self.randomPriceSample()\n",
    "            spathMean = self.arithmeticMath(spathArray)\n",
    "            arithPayoffArray.append(max(spathMean - self.K, 0))\n",
    "            \n",
    "        return arithPayoffArray\n",
    "    \n",
    "    def geometricPayoff(self):\n",
    "        np.random.seed(3)\n",
    "        geoPayoffArray = []\n",
    "        for i in range(self.M):\n",
    "            spathArray = self.randomPriceSample()\n",
    "            spathMean = self.geometricMath(spathArray)\n",
    "            geoPayoffArray.append(max(spathMean - self.K, 0))\n",
    "        return geoPayoffArray\n",
    "    \n",
    "    def arithmetricStandardMC(self):\n",
    "        arithPayoffArray = self.arithmetricPayoff()\n",
    "        vArith = self.discount * self.arithmeticMath(arithPayoffArray)\n",
    "        return vArith\n",
    "    \n",
    "    def geometricStandardMC(self):\n",
    "        geoPayoffArray = self.geometricPayoff()\n",
    "        vGeo = self.discount * self.arithmeticMath(geoPayoffArray)\n",
    "        return vGeo\n",
    "    \n",
    "    def arithmetricStandardMCWithCV(self):\n",
    "        arithPayoffArray = self.arithmetricPayoff()\n",
    "        geoPayoffArray = self.geometricPayoff()\n",
    "        vArith = self.discount * self.arithmeticMath(arithPayoffArray)\n",
    "        VCgeo = self.geometricClosedForm()\n",
    "        VGeo = self.geometricStandardMC()\n",
    "        covXY = np.cov(arithPayoffArray,geoPayoffArray)[0][1]\n",
    "        theta = covXY/np.var(geoPayoffArray)\n",
    "        return vArith + theta * (VCgeo - VGeo)\n",
    "    "
   ]
  },
  {
   "cell_type": "code",
   "execution_count": 137,
   "metadata": {},
   "outputs": [],
   "source": [
    "model = AsianOptionCal(sigma=0.3,N=50,S=100,K=100,T=3,r=0.05,M=100000,option=\"Call\")"
   ]
  },
  {
   "cell_type": "code",
   "execution_count": 138,
   "metadata": {},
   "outputs": [
    {
     "data": {
      "text/plain": [
       "13.25912613053641"
      ]
     },
     "execution_count": 138,
     "metadata": {},
     "output_type": "execute_result"
    }
   ],
   "source": [
    "model.geometricClosedForm()"
   ]
  },
  {
   "cell_type": "code",
   "execution_count": 139,
   "metadata": {},
   "outputs": [
    {
     "data": {
      "text/plain": [
       "13.294876312828912"
      ]
     },
     "execution_count": 139,
     "metadata": {},
     "output_type": "execute_result"
    }
   ],
   "source": [
    "model.geometricStandardMC()"
   ]
  },
  {
   "cell_type": "code",
   "execution_count": 140,
   "metadata": {},
   "outputs": [
    {
     "data": {
      "text/plain": [
       "14.773352881252862"
      ]
     },
     "execution_count": 140,
     "metadata": {},
     "output_type": "execute_result"
    }
   ],
   "source": [
    "model.arithmetricStandardMC()"
   ]
  },
  {
   "cell_type": "code",
   "execution_count": 141,
   "metadata": {},
   "outputs": [
    {
     "data": {
      "text/plain": [
       "14.733812354402918"
      ]
     },
     "execution_count": 141,
     "metadata": {},
     "output_type": "execute_result"
    }
   ],
   "source": [
    "model.arithmetricStandardMCWithCV()"
   ]
  },
  {
   "cell_type": "code",
   "execution_count": 101,
   "metadata": {},
   "outputs": [
    {
     "data": {
      "text/plain": [
       "array([1.78862847])"
      ]
     },
     "execution_count": 101,
     "metadata": {},
     "output_type": "execute_result"
    }
   ],
   "source": [
    "np.random.seed(3)\n",
    "np.random.standard_normal(1)"
   ]
  },
  {
   "cell_type": "code",
   "execution_count": 102,
   "metadata": {},
   "outputs": [
    {
     "data": {
      "text/plain": [
       "array([0.43650985])"
      ]
     },
     "execution_count": 102,
     "metadata": {},
     "output_type": "execute_result"
    }
   ],
   "source": [
    "np.random.standard_normal(1)"
   ]
  },
  {
   "cell_type": "code",
   "execution_count": 103,
   "metadata": {},
   "outputs": [
    {
     "data": {
      "text/plain": [
       "array([0.09649747])"
      ]
     },
     "execution_count": 103,
     "metadata": {},
     "output_type": "execute_result"
    }
   ],
   "source": [
    "np.random.standard_normal(1)"
   ]
  },
  {
   "cell_type": "code",
   "execution_count": 104,
   "metadata": {},
   "outputs": [
    {
     "data": {
      "text/plain": [
       "array([-1.8634927])"
      ]
     },
     "execution_count": 104,
     "metadata": {},
     "output_type": "execute_result"
    }
   ],
   "source": [
    "np.random.standard_normal(1)"
   ]
  },
  {
   "cell_type": "code",
   "execution_count": null,
   "metadata": {},
   "outputs": [],
   "source": []
  }
 ],
 "metadata": {
  "kernelspec": {
   "display_name": "Python 3",
   "language": "python",
   "name": "python3"
  },
  "language_info": {
   "codemirror_mode": {
    "name": "ipython",
    "version": 3
   },
   "file_extension": ".py",
   "mimetype": "text/x-python",
   "name": "python",
   "nbconvert_exporter": "python",
   "pygments_lexer": "ipython3",
   "version": "3.6.10"
  }
 },
 "nbformat": 4,
 "nbformat_minor": 4
}
